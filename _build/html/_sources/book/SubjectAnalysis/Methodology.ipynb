{
 "cells": [
  {
   "cell_type": "markdown",
   "id": "7df5ce53",
   "metadata": {},
   "source": [
    "## Methodology and Techniques\n",
    "\n",
    "Things to consider: \n",
    "*\tWhat is the method/technique (“method”) being discussed?\n",
    "*\tIs the method the primary (or one of the primary) concept in the article or just mentioned as a routine part of the process?\n",
    "*\tIs the method analytical, statistical, computational, role-based, discipline-based, etc.?\n",
    "*\tAre steps and/or equipment described in detail for doing the analysis?\n",
    "*\tIs different equipment using the same method being compared?\n",
    "*\tIf more than one method is discussed, is a comparison being done between the two, e.g., one is more accurate, one is easier to do than the other?\n",
    "*\tIs the method important to or for reaching the conclusion?\n",
    "\n",
    "<u> When methodology or technique terms <b>should</b> be selected for indexing </u>\n",
    "\n",
    "Check the full-text article (if available) to determine if the method or technique is described more in detail or is only listed once or a few times in explaining the experiment or research.\n",
    "\n",
    "If a methodology topic is a primary focus of the research project, index it.  This includes:\n",
    "*\tNew methodology \n",
    "    *\t“The study focuses on the development of a new procedure for the preparation of reference samples with a given concentration for X-ray fluorescence analysis ...”{cite}`SVERCHKOV` \n",
    "*\tAnalytical methods are the focus of the article/research\n",
    "    *\t“...In this review, the analytical methods of PAHs in sediment, focused on the methods of sample extraction, purification, concentration and determination, are summarized.”{cite}`WU2019`  \n",
    "*\tResearch includes improving a known methodology\n",
    "*\tMethodology is used in a new or different way\n",
    "*\tMethodology is evaluated for accuracy or reliability\n",
    "*\tTwo or more methods are being evaluated\n",
    "\n",
    "Consider indexing methodology if: \n",
    "*\tit provides a unique or characteristic mechanism for studying or evaluating the primary topic\n",
    "    *\t“...presents the advantages of microextraction to encourage the use of this technique in microbial analysis ...\"{cite}`BELINATO2021`  \n",
    "*\thelps to describe the nature of the results.\n",
    "    *\tIf an article is about the isolation, purification or fractionation of a mixture of compounds, __high performance liquid chromatography__ might describe more precisely what kind of “isolation” is involved.\n",
    "\n",
    "An article about determining of the structure of a chemical compound by nuclear magnetic resonance spectroscopy needs <u>both</u> __chemical structure__ (or appropriate NT) and by __nuclear magnetic resonance spectroscopy__ annotated because a user trying to determine the structure of a new compound by nuclear magnetic resonance would want to compare the spectral data of the new compound to the one in the article.\n",
    "\n",
    "An article showing determination of the ultrastructure of a biochemical compound by X-ray diffraction gives different data than one using scanning electron microscopy.  Users might need to know the technique used to determine the ultrastructure.\n",
    "\n",
    "An article about the effect of nutrient intake on some biochemical parameter or disease condition is best described by adding the method of data collection, e.g., epidemiological survey, dietary survey or clinical trial. While the article does not focus on the survey technique, including these topics may help to describe what the article is about.\n",
    "\t\n",
    "<u>When the methodology or technique topics <b>should not</b> be selected for indexing</u>\n",
    "\n",
    "Do not select the methodology or technique routinely if it is not the main topics discussed (“aboutness”). Is the article about this method or is it only mentioned as the technique the author used to do his research? Is the “how we do it” as important as “what are we trying to determine”? Consider whether or not a user would benefit from being able to retrieve that article using that descriptor. \n",
    "  *\t“The fall armyworm (FAW), Spodoptera frugiperda (J.E. Smith), is one of the most highly polyphagous invasive pests … However, little is known about the gut immune responses to the environment, particularly along the migration routes in Jianghuai, China, throughout the autumn and winter. In this study, high-throughput sequencing and real-time quantitative PCR (RT-qPCR) were employed to examine the variations in immune genes and gut microbiome communities between captive and wild fall armyworm populations ...”{cite}`ZHENG2023` - __quantitative polymerase chain reaction and high-throughput nucleotide sequencing__ are not necessary because it only describes how samples are processed. \n",
    "\n",
    "Some research articles give the details of the stepwise procedure of the overall analysis, such as collection of leaves, drying of leaves, milling of leaves, acid digestion of leaves, etc.  Do not index the individual stepwise procedures. \n",
    "\n",
    "## References\n",
    "```{bibliography} /book/references/references4.bib\n",
    ":filter: docname in docnames\n",
    "```"
   ]
  }
 ],
 "metadata": {
  "jupytext": {
   "text_representation": {
    "extension": ".md",
    "format_name": "myst",
    "format_version": 0.13,
    "jupytext_version": "1.11.5"
   }
  },
  "kernelspec": {
   "display_name": "Python 3",
   "language": "python",
   "name": "python3"
  },
  "language_info": {
   "codemirror_mode": {
    "name": "ipython",
    "version": 3
   },
   "file_extension": ".py",
   "mimetype": "text/x-python",
   "name": "python",
   "nbconvert_exporter": "python",
   "pygments_lexer": "ipython3",
   "version": "3.10.0"
  },
  "source_map": [
   12
  ]
 },
 "nbformat": 4,
 "nbformat_minor": 5
}
{
 "cells": [
  {
   "cell_type": "markdown",
   "id": "0a94675a",
   "metadata": {},
   "source": [
    "# Supplement E: Ambiguous concepts\n",
    "```{div} full-width\n",
    "Understand what you are annotating – do not automatically assume what an acronym, word or phrase means in the article. Terms that look like they should be in a particular hierarchy or related to certain terms may represent completely different concepts. If uncertain, check the original article (if full-text is available). And match with NALT preferred or entry-level terms and definitions. \n",
    "\n",
    "*\talveolar: “Relating to the socket of a tooth or part of a jawbone which contains the tooth sockets OR relating to the alveoli of the lungs...” (Oxford English Dictionary)\n",
    "+++\n",
    "*\tAnt colony optimization: “...is an optimization algorithm... used for solving computational problems and finding the optimal path with the help of graphs ... motivated by ... the grouping of ants in real environments...” (ScienceDirect)\n",
    "+++\n",
    "*\tArtificial bee colony: “...a swarm based meta-heuristic algorithm that for optimizing numerical problems...inspired by the intelligent foraging behavior of honey bees...(Scholarpedia)\n",
    "+++\n",
    "*\tBDM: Biologics Development Module or bird damage management?\n",
    "+++\n",
    "*\tBhattacharyya distance: “...measures the similarity of two probability distributions ...” (Wikipedia), \"...measure the closeness of two distributions...\" (ScienceDirect)\n",
    "+++\n",
    "*\tcashew apple: \"Botanically, the cashew apple (CA) is a pseudo-fruit of the cashew (Anacardium occidentale L.)...\"  \"Modeling and optimization of pectinase-assisted low-temperature extraction of cashew apple juice using artificial neural network coupled with genetic algorithm.\" Food Chemistry (2021), Volume 339, 127862. https://doi.org/10.1016/j.foodchem.2020.127862.\n",
    "+++\n",
    "*\tCBD: cannabinoids or citrus blotch disease? \n",
    "+++\n",
    "*\tcost surface (or cost grid): \"...raster grid in which the value in each cell is the cost that a particular activity or object would be in that cell...\" (GIS Encyclopedia, http://wiki.gis.com/)\n",
    "+++\n",
    "*\tgenerative adversarial networks (or nets): “...a class of machine learning frameworks... Two neural networks contest with each other in the form of a zero-sum game, where one agent's gain is another agent's loss ...” (Wikipedia)\n",
    "+++\n",
    "*\tLoess Plateau: \"...a plateau in north-central China formed of loess, a clastic silt-like sediment formed by the accumulation of wind-blown dust...\" (Wikipedia)\n",
    "+++\n",
    "*\tmelting curve analysis: “...assessment of the dissociation characteristics of double-stranded DNA during heating...” (Wikipedia).\n",
    "+++\n",
    "*\tmilk stage: \"... the stage when the grains are being filled. It begins after flowering and lasts for about 2 weeks...\" (Guyana Rice Development Board)\n",
    "+++\n",
    "*\torbit: “Bony cavity that holds the eyeball and its associated tissues and appendages” (MESH)\n",
    "+++\n",
    "*\tPaenibacillus larvae: “...(bacteria) widely accepted as the main causative pathogen for American Foulbrood in honey bees...” (ScienceDirect)\n",
    "+++\n",
    "*\tpoint cloud: “...a discrete set of data points in space...” (Wikipedia)\n",
    "+++\n",
    "*\tsurvival analysis: “...branch of statistics for analyzing the expected duration of time until one event occurs, such as death in biological organisms and failure in mechanical systems...” (Wikipedia)\n",
    "+++\n",
    "*\tvine copula: “...A vine is a graphical tool for labeling constraints in high-dimensional probability distributions... Copulas are multivariate distributions with uniform univariate margins...” (Wikipedia)\n",
    "```"
   ]
  }
 ],
 "metadata": {
  "jupytext": {
   "text_representation": {
    "extension": ".md",
    "format_name": "myst",
    "format_version": 0.13,
    "jupytext_version": "1.11.5"
   }
  },
  "kernelspec": {
   "display_name": "Python 3",
   "language": "python",
   "name": "python3"
  },
  "language_info": {
   "codemirror_mode": {
    "name": "ipython",
    "version": 3
   },
   "file_extension": ".py",
   "mimetype": "text/x-python",
   "name": "python",
   "nbconvert_exporter": "python",
   "pygments_lexer": "ipython3",
   "version": "3.10.0"
  },
  "source_map": [
   12
  ]
 },
 "nbformat": 4,
 "nbformat_minor": 5
}
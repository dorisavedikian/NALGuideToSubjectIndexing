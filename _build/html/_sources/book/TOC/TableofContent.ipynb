{
 "cells": [
  {
   "cell_type": "markdown",
   "id": "f76dbc5b",
   "metadata": {},
   "source": [
    "# Table of Contents\n",
    "## Basic Guidelines\n",
    "\n",
    "## The Agricola Database\n",
    "\n",
    "Here is a link to [SEARCH](https://search.nal.usda.gov/discovery/search?vid=01NAL_INST:MAIN) \n",
    "\n",
    "Search everything for results from the Catalog and Articles database (AGRICOLA), PubAg, and the NAL Digital Collections (NALDC)!\n",
    "\n",
    "## MARC Format\n",
    "\n",
    "## The NAL Thesaurus (NALT)\n",
    "\n",
    "Here is a link to the [National Ag Library Thesaurus](https://agclass.nal.usda.gov)\n",
    "\n",
    "## Workflow\n",
    "\n",
    "## Subject Analysis"
   ]
  }
 ],
 "metadata": {
  "jupytext": {
   "text_representation": {
    "extension": ".md",
    "format_name": "myst",
    "format_version": 0.13,
    "jupytext_version": "1.11.5"
   }
  },
  "kernelspec": {
   "display_name": "Python 3",
   "language": "python",
   "name": "python3"
  },
  "language_info": {
   "codemirror_mode": {
    "name": "ipython",
    "version": 3
   },
   "file_extension": ".py",
   "mimetype": "text/x-python",
   "name": "python",
   "nbconvert_exporter": "python",
   "pygments_lexer": "ipython3",
   "version": "3.10.0"
  },
  "source_map": [
   12
  ]
 },
 "nbformat": 4,
 "nbformat_minor": 5
}
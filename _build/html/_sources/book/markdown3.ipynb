{
 "cells": [
  {
   "cell_type": "markdown",
   "id": "ccf868c5",
   "metadata": {},
   "source": [
    "# Guide Supplements\n",
    "\n",
    "## Supplement A: Types of articles not indexed for Agricola \n",
    "\n",
    "## Supplement B: Additional resources for indexers\n",
    "\n",
    "##\tSupplement C: Preferred Assignment of Names for Organisms and Products – Summary\n",
    "\n",
    "##\tSupplement D: Similar NALT terms in different hierarchies\n",
    "\n",
    "##\tSupplement E: Ambiguous concepts\n",
    "\n",
    "##\tSupplement F: Checklist of Common Indexing Errors\n",
    "\n",
    "##\tSupplement G: Examples"
   ]
  }
 ],
 "metadata": {
  "jupytext": {
   "text_representation": {
    "extension": ".md",
    "format_name": "myst",
    "format_version": 0.13,
    "jupytext_version": "1.11.5"
   }
  },
  "kernelspec": {
   "display_name": "Python 3",
   "language": "python",
   "name": "python3"
  },
  "language_info": {
   "codemirror_mode": {
    "name": "ipython",
    "version": 3
   },
   "file_extension": ".py",
   "mimetype": "text/x-python",
   "name": "python",
   "nbconvert_exporter": "python",
   "pygments_lexer": "ipython3",
   "version": "3.10.0"
  },
  "source_map": [
   12
  ]
 },
 "nbformat": 4,
 "nbformat_minor": 5
}
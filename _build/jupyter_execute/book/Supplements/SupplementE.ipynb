{
 "cells": [
  {
   "cell_type": "markdown",
   "id": "e71b02bb",
   "metadata": {},
   "source": [
    "# Supplement E: Ambiguous concepts\n",
    "\n",
    "Understand what you are annotating – do not automatically assume what an acronym, word or phrase means in the article. Terms that look like they should be in a particular hierarchy or related to certain terms may represent completely different concepts. If uncertain, check the original article (if full-text is available). And match with *NALT* preferred or entry-level terms and definitions. \n",
    "\n",
    "*\t<u>alveolar</u>: “Relating to the socket of a tooth or part of a jawbone which contains the tooth sockets OR relating to the alveoli of the lungs...” (_Oxford English Dictionary_)"
   ]
  },
  {
   "cell_type": "markdown",
   "id": "caad9afc",
   "metadata": {},
   "source": [
    "*\t<u>Ant colony optimization:</u> “...is an optimization algorithm... used for solving computational problems and finding the optimal path with the help of graphs...motivated by ... the grouping of ants in real environments...” (ScienceDirect)"
   ]
  },
  {
   "cell_type": "markdown",
   "id": "e33b3414",
   "metadata": {},
   "source": [
    "*\t<u>Artificial bee colony:</u> “...a swarm based meta-heuristic algorithm that for optimizing numerical problems...inspired by the intelligent foraging behavior of honey bees...(Scholarpedia)"
   ]
  },
  {
   "cell_type": "markdown",
   "id": "d07d70c0",
   "metadata": {},
   "source": [
    "*\t<u>BDM:</u> Biologics Development Module or bird damage management?"
   ]
  },
  {
   "cell_type": "markdown",
   "id": "03ff4aa5",
   "metadata": {},
   "source": [
    "*\t<u>Bhattacharyya distance:</u> “...measures the similarity of two probability distributions...” (Wikipedia), \"...measure the closeness of two distributions...\" (ScienceDirect)"
   ]
  },
  {
   "cell_type": "markdown",
   "id": "8564d884",
   "metadata": {},
   "source": [
    "*\t<u>cashew apple:</u> \"Botanically, the cashew apple (CA) is a pseudo-fruit of the cashew (Anacardium occidentale L.)...\"  \"Modeling and optimization of pectinase-assisted low-temperature extraction of cashew apple juice using artificial neural network coupled with genetic algorithm.\"{cite}`ABDULLAH2021`"
   ]
  },
  {
   "cell_type": "markdown",
   "id": "37578b08",
   "metadata": {},
   "source": [
    "*\t<u>CBD:</u> cannabinoids or citrus blotch disease?"
   ]
  },
  {
   "cell_type": "markdown",
   "id": "62edfcce",
   "metadata": {},
   "source": [
    "*\t<u>cost surface (or cost grid):</u> \"...raster grid in which the value in each cell is the cost that a particular activity or object would be in that cell...\" (GIS Encyclopedia, http://wiki.gis.com/)"
   ]
  },
  {
   "cell_type": "markdown",
   "id": "65205c7a",
   "metadata": {},
   "source": [
    "*\t<u>generative adversarial networks (or nets):</u> “...a class of machine learning frameworks... Two neural networks contest with each other in the form of a zero-sum game, where one agent's gain is another agent's loss ...” (Wikipedia)"
   ]
  },
  {
   "cell_type": "markdown",
   "id": "a5682ebf",
   "metadata": {},
   "source": [
    "*\t<u>Loess Plateau:</u> \"...a plateau in north-central China formed of loess, a clastic silt-like sediment formed by the accumulation of wind-blown dust...\" (Wikipedia)"
   ]
  },
  {
   "cell_type": "markdown",
   "id": "0640fe32",
   "metadata": {},
   "source": [
    "*\t<u>melting curve analysis:</u> “...assessment of the dissociation characteristics of double-stranded DNA during heating...” (Wikipedia)."
   ]
  },
  {
   "cell_type": "markdown",
   "id": "96239c74",
   "metadata": {},
   "source": [
    "*\t<u>milk stage:</u> \"... the stage when the grains are being filled. It begins after flowering and lasts for about 2 weeks...\" (Guyana Rice Development Board)"
   ]
  },
  {
   "cell_type": "markdown",
   "id": "054703cd",
   "metadata": {},
   "source": [
    "*\t<u>orbit:</u> “Bony cavity that holds the eyeball and its associated tissues and appendages” (MESH)"
   ]
  },
  {
   "cell_type": "markdown",
   "id": "18535951",
   "metadata": {},
   "source": [
    "*\t<u>Paenibacillus larvae:</u> “...(bacteria) widely accepted as the main causative pathogen for American Foulbrood in honey bees...” (ScienceDirect)"
   ]
  },
  {
   "cell_type": "markdown",
   "id": "8dcbef46",
   "metadata": {},
   "source": [
    "*\t<u>point cloud:</u> “...a discrete set of data points in space...” (Wikipedia)"
   ]
  },
  {
   "cell_type": "markdown",
   "id": "f8411fbb",
   "metadata": {},
   "source": [
    "*\t<u>survival analysis:</u> “...branch of statistics for analyzing the expected duration of time until one event occurs, such as death in biological organisms and failure in mechanical systems...” (Wikipedia)"
   ]
  },
  {
   "cell_type": "markdown",
   "id": "5d6abf68",
   "metadata": {},
   "source": [
    "*\t<u>vine copula:</u> “...A vine is a graphical tool for labeling constraints in high-dimensional probability distributions... Copulas are multivariate distributions with uniform univariate margins...” (Wikipedia)\n",
    "\n",
    "\n",
    "```{bibliography} /book/references/references7.bib\n",
    ":filter: docname in docnames\n",
    "```"
   ]
  }
 ],
 "metadata": {
  "jupytext": {
   "text_representation": {
    "extension": ".md",
    "format_name": "myst",
    "format_version": 0.13,
    "jupytext_version": "1.11.5"
   }
  },
  "kernelspec": {
   "display_name": "Python 3",
   "language": "python",
   "name": "python3"
  },
  "language_info": {
   "codemirror_mode": {
    "name": "ipython",
    "version": 3
   },
   "file_extension": ".py",
   "mimetype": "text/x-python",
   "name": "python",
   "nbconvert_exporter": "python",
   "pygments_lexer": "ipython3",
   "version": "3.10.0"
  },
  "source_map": [
   12,
   19,
   21,
   23,
   25,
   27,
   29,
   31,
   33,
   35,
   37,
   39,
   41,
   43,
   45,
   47,
   49
  ]
 },
 "nbformat": 4,
 "nbformat_minor": 5
}
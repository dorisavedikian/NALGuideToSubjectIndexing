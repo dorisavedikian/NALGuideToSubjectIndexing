{
 "cells": [
  {
   "cell_type": "markdown",
   "id": "7472143c",
   "metadata": {},
   "source": [
    "# Supplement F: Checklist of Common Indexing Errors\n",
    "```{div} full-width\n",
    "It may be helpful to use this checklist to evaluate your own indexing. \n",
    "\n",
    "1.\tFailing to annotate a significant concept.\n",
    "\n",
    "    a.\tNot annotating hops in “AHR agonistic effects of 6-PN contribute to potential beneficial effects of Hops extract”\n",
    "        \n",
    "    b.\tNot annotating rats in “...This study assessed whether the ABP or fenofibrate administration for 28 days interferes in lipid, glucose, or inflammatory changes in the enterohepatic axis of rats fed HFD...”\n",
    "\n",
    "    c.\tNot annotating antibiotic residues in “To explore the responses of soil microbial communities to concentration gradients of antibiotic residues in soil, 32 soil samples were collected from a typical greenhouse vegetable production base...”\n",
    "+++\n",
    "2.\tAnnotating a concept with an inappropriate term.\n",
    "    a.\tAnnotating a term which is too broad.\n",
    "\n",
    "    b.\tAnnotating a term which is too specific.\n",
    "\n",
    "    c.\tAnnotating a term which is in the wrong hierarchical context.\n",
    "        i.\tAnnotating nutrient transport (BTs nutrition physiology and physiological transport) in “...This study makes a first attempt to quantify the nutrient transport linkages between the mainstream part of the Mekong River and Tonle Sap Lake, and to estimate the nutrient fluxes in the lower reach of the Mekong River at Kratie and Chroy Changva...”\n",
    "        ii.\tAnnotating biosynthesis (BT metabolism) in \"...in this study we report ...the synthesis of copper nanoparticles from seed extract of Vitis vinifera. The synthesis of copper nanoparticles from plant extracts showed promising results against biological and cytotoxic applications...\"\n",
    "\n",
    "    d.\tAnnotating a term which is inconsistent with scope notes or definitions.\n",
    "        i.\tAnnotating postpartum period (Scope Note: Use for humans; For animals USE postpartum interval) in “...The results...demonstrate that during the postpartum period, lactating mares have some similarities in follicular and hormonal profiles around emergence and deviation when compared with non-postpartum cycling mares...”\n",
    "+++\n",
    "3.\tAnnotating a concept that should be ignored (e.g., information provided as background information or reference standards).\n",
    "\n",
    "    a.\tInsufficient information on concept to warrant retrieval effort.\n",
    "        i.\tAnnotating forests in “...Inspired by the natural geotexture of forests, a novel Ni/Co-based layered double hydroxide (Ni/Co-LDH) derived from the metal-organic framework grown on ZnO nanotubes...”\n",
    "        ii.\tAnnotating United States Environmental Protection Agency in “Surface sediments along the Southern Terengganu coast...were analyzed for polycyclic aromatic hydrocarbons (PAHs). The concentrations of 16 USEPA priority polycyclic aromatic hydrocarbons (ΣPAH₁₆) ranged...” \n",
    "\n",
    "    b.\tWork not conducted as part of the research described in the full-text article.\n",
    "        i.\tAnnotating oils in “...Three marine ecological examples using ANOSIM to analyse an ordered factor in one‐way designs are provided. These are: (1) changes in macrofaunal composition with increasing distance from an oil rig; (2) differences in phytal meiofaunal community composition...\"\n",
    "        ii.\tAnnotating metallurgy in \n",
    "+++\n",
    "4.\tAnnotating the same concept at more than one hierarchical level.\n",
    "+++\n",
    "5.\tUsing the same word(s) to annotate two different concepts.\n",
    "+++\n",
    "6.\tFailing to annotate all significant components /facets of a concept.\n",
    "\n",
    "7.\tFailing to annotate significant negative results.\n",
    "    a.\t“...ultrasound measurements of abdominal muscle thickness were independently, negatively associated with PMA at full oral feedings...”\n",
    "+++\n",
    "8.\tFailing to annotate with concepts which are treated equally in the document.\n",
    "+++\n",
    "9.\tAnnotating implications or speculations.\n",
    "    \n",
    "    a.\t“...The miR-211-3p could promote HSCC progression and upregulate CSF2/CCL20/TNF signaling to promote IC insensitivity in HSCC, which may provide new ideas for HSCC therapy.”\n",
    "10.\tAnnotating routine techniques, methods or procedures.\n",
    "+++\n",
    "11.\tFailing to annotate significant geographic concept.\n",
    "\n",
    "    a.\tNot annotating Pacific Ocean in “Impacts of the East Asian winter monsoon on winter precipitation variability over East Asia-western North Pacific”\n",
    "\n",
    "    b.\tNot annotating Central America in “Velocity and Anisotropic Structure of the Uppermost Mantle Beneath Central America and Northwestern South America From Pn Tomography” \n",
    "+++\n",
    "12.\tAssigning geographic term which is overly or insufficiently specific.\n",
    "    \n",
    "    a.\tAnnotating Brazil instead of South America in “An Introduction to the Issue of Consumer Law in South America” (“This Special Issue...goes back to a conference...in Porto Alegre Brazil, the first of the Center of European and German Studies...”)\n",
    "\n",
    "    b.\tAnnotating Canada instead of Alberta in “Spatial regression modelling of particulate pollution in Calgary, Canada” \n",
    "+++\n",
    "13.\tAssigning geographic term for laboratory/greenhouse research, unless used in conjunction with field studies.\n",
    "\n",
    "    a.\tOmit – annotating Botswana for “...The soil samples were collected from the greenhouse pot experiment that was carried out from August 2019 to October 2020 at the Botswana University of Agriculture and Natural Resources...”\n",
    "\n",
    "    b.\tInclude – annotating Western Australia for “...From 2017 to 2020, experiments were conducted at Cunderdin, Dandaragan, Three Springs, Manjimup, and Merredin in WA (Western Australia)...The experiments evaluated four sowing times, two sowing depths in the field sites, six sowing depths in a glasshouse experiment, three sowing rates, and three row spacings...” \n",
    "+++\n",
    "14.\tAssigning an invalid annotation as a valid term. In computer-based indexing system, the NALT concept must be selected from a dropdown menu. If it is not properly selected, the annotated term may display with a plus sign indicating it does not match a NALT term (even if it does). This may show up as a duplicate term in the corresponding Golden Set if others annotated the term properly. \n",
    "+++\n",
    "15.\tFailing to define an important acronym or abbreviation with its corresponding NALT preferred term. \n",
    "\n",
    "    a.\tNot annotating quantitative trait loci in “Genetic diversity and QTL-marker association analysis of rice germplasm for grain number per panicle and its contributing traits”\n",
    "```"
   ]
  }
 ],
 "metadata": {
  "jupytext": {
   "text_representation": {
    "extension": ".md",
    "format_name": "myst",
    "format_version": 0.13,
    "jupytext_version": "1.11.5"
   }
  },
  "kernelspec": {
   "display_name": "Python 3",
   "language": "python",
   "name": "python3"
  },
  "language_info": {
   "codemirror_mode": {
    "name": "ipython",
    "version": 3
   },
   "file_extension": ".py",
   "mimetype": "text/x-python",
   "name": "python",
   "nbconvert_exporter": "python",
   "pygments_lexer": "ipython3",
   "version": "3.10.0"
  },
  "source_map": [
   12
  ]
 },
 "nbformat": 4,
 "nbformat_minor": 5
}
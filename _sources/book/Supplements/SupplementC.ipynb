{
 "cells": [
  {
   "cell_type": "markdown",
   "id": "829f513d",
   "metadata": {},
   "source": [
    "# Supplement C: Preferred Assignment of Names for Organisms and Products - Summary"
   ]
  }
 ],
 "metadata": {
  "jupytext": {
   "text_representation": {
    "extension": ".md",
    "format_name": "myst",
    "format_version": 0.13,
    "jupytext_version": "1.11.5"
   }
  },
  "kernelspec": {
   "display_name": "Python 3",
   "language": "python",
   "name": "python3"
  },
  "source_map": [
   12
  ]
 },
 "nbformat": 4,
 "nbformat_minor": 5
}
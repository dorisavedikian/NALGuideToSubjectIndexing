{
 "cells": [
  {
   "cell_type": "markdown",
   "id": "a07c97b5",
   "metadata": {},
   "source": [
    "(SuppC)=\n",
    "# Supplement C: Preferred Assignment of Names for Organisms and Products - Summary\n",
    "\n",
    "```{list-table} \n",
    ":header-rows: 1\n",
    ":name: label-to-reference\n",
    "\n",
    "* - Organism or Product\n",
    "  - Taxonomic Name\n",
    "  - Commodity/Product Name\n",
    "* - Plants and crops\n",
    "  - yes\n",
    "  - yes\n",
    "* - Plant commodity/products (food/non-food)\n",
    "  - \n",
    "  - yes\n",
    "```"
   ]
  },
  {
   "cell_type": "markdown",
   "id": "b0a0705c",
   "metadata": {},
   "source": [
    "```{list-table} \n",
    ":header-rows: 1\n",
    ":name: label-to-reference\n",
    "\n",
    "* - Organism\n",
    "  - Taxonomic Name\n",
    "  - Disease name (if describing infection or disease)\n",
    "* - Bacteria\n",
    "  - yes\n",
    "  - yes\n",
    "* - Protozoa\n",
    "  - yes\n",
    "  - yes\n",
    "* - Viruses\n",
    "  - yes\n",
    "  - yes\n",
    "* - Fungi\n",
    "  - yes\n",
    "  - yes\n",
    "```"
   ]
  },
  {
   "cell_type": "markdown",
   "id": "4262ad05",
   "metadata": {},
   "source": [
    "```{list-table} \n",
    ":header-rows: 1\n",
    ":name: label-to-reference\n",
    "\n",
    "* - Organism\n",
    "  - Taxonomic Name\n",
    "  - Common group name\n",
    "* - Arthopoda\n",
    "  - yes\n",
    "  - yes\n",
    "* - Other vertebrates\n",
    "  - yes\n",
    "  - yes\n",
    "* - Fish\n",
    "  - yes\n",
    "  - yes\n",
    "* - Amphibians\n",
    "  - yes\n",
    "  - yes\n",
    "* - Reptiles\n",
    "  - yes\n",
    "  - yes\n",
    "* - Mammals and birds (not for livestock, pets, or experimental animals)\n",
    "  - yes\n",
    "  - yes\n",
    "* - Mammals and birds (as livestock, pets, or experimental animals)\n",
    "  - \n",
    "  - yes\n",
    "* - Laboratory animals\n",
    "  - \n",
    "  - yes \n",
    "```"
   ]
  }
 ],
 "metadata": {
  "jupytext": {
   "text_representation": {
    "extension": ".md",
    "format_name": "myst",
    "format_version": 0.13,
    "jupytext_version": "1.11.5"
   }
  },
  "kernelspec": {
   "display_name": "Python 3",
   "language": "python",
   "name": "python3"
  },
  "source_map": [
   12,
   30,
   52
  ]
 },
 "nbformat": 4,
 "nbformat_minor": 5
}
{
 "cells": [
  {
   "cell_type": "markdown",
   "id": "ba72901c",
   "metadata": {},
   "source": [
    "# Supplement C: Preferred Assignment of Names for Organisms and Products"
   ]
  }
 ],
 "metadata": {
  "jupytext": {
   "text_representation": {
    "extension": ".md",
    "format_name": "myst",
    "format_version": 0.13,
    "jupytext_version": "1.11.5"
   }
  },
  "kernelspec": {
   "display_name": "Python 3",
   "language": "python",
   "name": "python3"
  },
  "source_map": [
   12
  ]
 },
 "nbformat": 4,
 "nbformat_minor": 5
}
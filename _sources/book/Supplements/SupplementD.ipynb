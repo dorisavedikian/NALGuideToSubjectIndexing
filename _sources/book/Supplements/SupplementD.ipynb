{
 "cells": [
  {
   "cell_type": "markdown",
   "id": "a9075da1",
   "metadata": {},
   "source": [
    "# Supplement D: Similar NALT terms in different hierarchies"
   ]
  }
 ],
 "metadata": {
  "jupytext": {
   "text_representation": {
    "extension": ".md",
    "format_name": "myst",
    "format_version": 0.13,
    "jupytext_version": "1.11.5"
   }
  },
  "kernelspec": {
   "display_name": "Python 3",
   "language": "python",
   "name": "python3"
  },
  "source_map": [
   12
  ]
 },
 "nbformat": 4,
 "nbformat_minor": 5
}
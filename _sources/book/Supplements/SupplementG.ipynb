{
 "cells": [
  {
   "cell_type": "markdown",
   "id": "3e6e515f",
   "metadata": {},
   "source": [
    "# Supplement G: Examples\n",
    "\n",
    "## Example 1.\n",
    "\n",
    "## Example 2. \n",
    "\n",
    "## Example 3."
   ]
  }
 ],
 "metadata": {
  "jupytext": {
   "text_representation": {
    "extension": ".md",
    "format_name": "myst",
    "format_version": 0.13,
    "jupytext_version": "1.11.5"
   }
  },
  "kernelspec": {
   "display_name": "Python 3",
   "language": "python",
   "name": "python3"
  },
  "source_map": [
   12
  ]
 },
 "nbformat": 4,
 "nbformat_minor": 5
}
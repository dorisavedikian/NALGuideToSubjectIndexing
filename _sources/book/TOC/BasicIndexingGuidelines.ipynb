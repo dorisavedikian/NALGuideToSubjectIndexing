{
 "cells": [
  {
   "cell_type": "markdown",
   "id": "a58c6a57",
   "metadata": {},
   "source": [
    "# Basic Indexing Guidelines\n",
    "\n",
    "1.)\tDetermine what you are indexing (*“indexing”* or *“annotating”*) based on the title, journal name and abstract (*“article”*). \n",
    "\n",
    "2.)\tThe NAL thesaurus (*“NALT”*) is the sole source for annotations, with concepts being added, modified, defined, redefined and deprecated, as needed. \n",
    "\n",
    "3.)\tAll articles must have at least three concepts to be processed. While there is no upper limit, that does not mean that every possible concept must be added. \n",
    "\n",
    "4.)\tLook for the “magic sentence” when the author(s) (*“author”*) starts talking about what they are doing and/or will be describing in the article. Do not index what has been done in the past, will be done in the future or is mentioned as background information or speculation. \n",
    "\n",
    "5.)\tBe aware that similar phrases or related concepts/terms (*“RTs”*) have different meanings and hierarchies. Review definitions, scope notes, Broader Concepts/Terms (*“BTs”*), Narrower Concepts/Terms (*“NTs”*), and Entry-Level (or hidden/alternate) Terms to ensure that you are selecting the appropriate concept(s). \n",
    "\n",
    "6.)\tDo not fixate on a term. Do not add concepts merely because they are in the title, journal name and/or article. Determine whether the concept is relevant to the article and is the best term to cover what the author is discussing or doing. \n",
    "\n",
    "7.)\tThe broadest, top-level concepts should not be used if narrower concepts are applicable and/or there are more than three concepts. \n",
    "\n",
    "8.)\tUse the narrowest concept possible but only if it describes the entire article and does not omit equal concept(s) not captured by a *NALT* concept. \n",
    "\n",
    "9.)\tReview annotated concepts to determine if all are necessary or better ones come to mind."
   ]
  }
 ],
 "metadata": {
  "jupytext": {
   "text_representation": {
    "extension": ".md",
    "format_name": "myst",
    "format_version": 0.13,
    "jupytext_version": "1.11.5"
   }
  },
  "kernelspec": {
   "display_name": "Python 3",
   "language": "python",
   "name": "python3"
  },
  "source_map": [
   12
  ]
 },
 "nbformat": 4,
 "nbformat_minor": 5
}
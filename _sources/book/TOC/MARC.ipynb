{
 "cells": [
  {
   "cell_type": "markdown",
   "id": "324777fc",
   "metadata": {},
   "source": [
    "# MARC Format\n",
    "\n",
    "```{sidebar} \n",
    "> __650__  NALT terms \n",
    ">\n",
    "> __651__  Geographical terms \n",
    ">\n",
    "> __653__ Identifiers[^1]\n",
    "```\n",
    "MARC (MAchine-Readable Cataloging) is used to define three fields that appear in Agricola records; a fourth field for subject category codes is no longer used. While MARC fields may appear on some external platforms, they are largely transparent in the indexing process. NAL systems that manage both human-indexed and machine-indexed articles automatically assign the appropriate field for each term.    \n",
    "\n",
    "[^1]: This field is limited to machine-indexed articles and is automatically populated by the system, as needed."
   ]
  }
 ],
 "metadata": {
  "jupytext": {
   "text_representation": {
    "extension": ".md",
    "format_name": "myst",
    "format_version": 0.13,
    "jupytext_version": "1.11.5"
   }
  },
  "kernelspec": {
   "display_name": "Python 3",
   "language": "python",
   "name": "python3"
  },
  "source_map": [
   12
  ]
 },
 "nbformat": 4,
 "nbformat_minor": 5
}
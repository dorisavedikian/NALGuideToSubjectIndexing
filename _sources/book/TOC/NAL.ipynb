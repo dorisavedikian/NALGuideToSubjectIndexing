{
 "cells": [
  {
   "cell_type": "markdown",
   "id": "4d2638d8",
   "metadata": {},
   "source": [
    "# The NAL Thesaurus (NALT)\n",
    "\n",
    "The [***NALT***](https://agclass.nal.usda.gov/) is the controlled vocabulary and sole source of terms/concepts for indexing articles. These terms can be organisms (taxonomic or common names), products, phenomena, particular objectives or perspectives, facilities, activities, operations, equipment, processes, techniques, geographic names, environmental conditions and the elements that affects any of these. \n",
    " \n",
    " ```{margin} *NALT Core* \n",
    " (subscheme with 13,791 frequently-used concepts including 4,396 agriculturally important organisms (taxa), and structural updates)\n",
    "```\n",
    " ```{margin} *NALT Full*\n",
    "(*NALT Core* plus 48,000+ additional agricultural related organisms and several thousand less-frequently used concepts for a total of 76,933 concepts)\n",
    "```\n",
    "There are two options, ***NALT Core*** and ***NALT Full***.\n",
    "\n",
    "When considering proposal of a new term, always ask:\n",
    "* Will this term be used often enough to justify its addition to NALT?\n",
    "* Does this term represent a concept which can be consistently and reliability differentiated from any other concept?\n",
    "\n",
    "## Proposing a new term:\n",
    "*\tConsult relevant, authoritative resources (e.g., AGROVOC, CAB thesaurus) first when proposing a new term. Consider other specialized resources in (e.g., MESH, AlgaeBase), dictionaries, handbooks, monographs, textbooks and number of postings of the proposed concept in relevant databases. Do not use all-purpose dictionaries. See [Supplement B](SupplementB) for some additional resources."
   ]
  },
  {
   "cell_type": "markdown",
   "id": "9620de61",
   "metadata": {},
   "source": [
    "*\tChanges include adding or deprecating (removing from preferred/accepted terminology) concepts, modifying hierarchies and adding/amending definitions or scope notes. Justification and additional comments should be neutral and business-like. Recommend term during Golden Sets review (see [Work Flow](Workflow))"
   ]
  },
  {
   "cell_type": "markdown",
   "id": "a77f11e4",
   "metadata": {},
   "source": [
    "*\tIf the proposed term is already included in another thesaurus, suggest the term as it appears in that thesaurus to maintain consistency. If the term is in several thesauri in different forms (e.g., hyphenation, capitalization), recommend the one that follows NALT naming convention (see below) with other forms included as entry-level terms."
   ]
  },
  {
   "cell_type": "markdown",
   "id": "312c6e27",
   "metadata": {},
   "source": [
    "```{margin} __Examples of capitalization:__\n",
    "* USDA Forest Service \n",
    "* Mississippi Delta region \n",
    "* Internet of Things\n",
    "* Daboia russelii\n",
    "* DDT (pesticide)\n",
    "* COVID-19 infection\n",
    "```\n",
    "```{margin} __Examples of lower case:__\n",
    "* forests\n",
    "* river deltas\n",
    "* information technology\n",
    "* reptiles\n",
    "* organochlorine pesticides\n",
    "* infectious diseases\n",
    "```\n",
    "*\tFollow conventions of capitalization used in NALT, i.e., capitalize formal names, geographical terms and acronyms, use lower case for non-specific places or things, etc."
   ]
  },
  {
   "cell_type": "markdown",
   "id": "7901f35c",
   "metadata": {},
   "source": [
    "*\tConsider spelling variants, synonyms, and quasi-synonyms before proposing a new term.\n",
    "    *\t__Example:__ For “Nutrient solution concentration and collection time in phytomass production, content, yield and chemical composition of essential oil of rosemary”{cite}`JoPN_2018`, NALT does not have a term to cover specifically “essential oil of rosemary”.  \n",
    "        * Consider proposing **rosemary oil** (CABI thesaurus term) as a preferred term, with **essential oil of rosemary, rosemary essential oil and Rosmarinus officinalis essential oil** (among others) as potential entry-level terms.\n",
    "    *\t__Example:__ For “Effects of Coffee and Its Components on the Gastrointestinal Tract and the Brain–Gut Axis”, {cite}`Nutrients_20` *NALT* has __coffee (beverage)__ and __gastrointestinal system__ but not “brain-gut axis” or another term that covers that concept. \n",
    "        * Propose __brain-gut axis__ (existing MESH term, “interactive network between the gastrointestinal tract (gut) and the brain principally mediated through the enteric nervous system ...”) as the preferred term __with brain and gut axis, brain-gut-microbiome axis, gut and brain axis, gut-brain axis__ and other variations as entry-level terms."
   ]
  },
  {
   "cell_type": "markdown",
   "id": "d561a62a",
   "metadata": {},
   "source": [
    "*\tTerms should always be nouns, noun phrases (phrase formed by a noun and all its modifiers and determiners), or gerunds (a word that is derived from a verb but functions as a noun).\n",
    "    *\tnouns – __cattle, farms, hematophagy, loci__\n",
    "    *\tnoun phrases – __antibrowning agents, artificial flavorings, old animals, red light__\n",
    "    *\tgerunds – __allografting, farrowing, milking, plowing__"
   ]
  },
  {
   "cell_type": "markdown",
   "id": "c97695c4",
   "metadata": {},
   "source": [
    "*\tExclude prepositions in noun phrases unless doing so violates accepted English usage or official naming convention, may be misleading in its connotation or could have an ambiguous meaning, or the proposal is already a standard, accepted term. \n",
    "    *\tentry-level term __resistance to lodging__ -> preferred term __lodging resistance__\n",
    "    *\tentry-level term __alternatives to animal testing__ -> preferred term __animal use alternatives__ \n",
    "    *\tpreferred terms __appropriate level of protection, brain as food, fluorescence recovery after photobleaching__ and __Bay of Bengal__"
   ]
  },
  {
   "cell_type": "markdown",
   "id": "5905ed5a",
   "metadata": {},
   "source": [
    "*\tAdjectives are used only with nouns as part of noun phrases (see above), not as independent terms."
   ]
  },
  {
   "cell_type": "markdown",
   "id": "44ca0c59",
   "metadata": {},
   "source": [
    "*\tUse the singular form for processes, properties, attributes and unique things. Use plural for classes of objects, e.g., common names for organisms, groups of things.\n",
    "    *\tsingular – __brain, jasmone, food supply chain, subsurface drainage, yellow fever__\n",
    "    *\tplural – __animal organs, oxylipins, supply chain disruptions, drainage systems, Flavivirus infections__"
   ]
  },
  {
   "cell_type": "markdown",
   "id": "56bf3f81",
   "metadata": {},
   "source": [
    "*\tUse natural word order. If appropriate, propose the inverted form as an entry-level term.\n",
    "    *\t__agricultural development__, not __developing agriculture__ or __development of agriculture__\n",
    "    *\t__climate change__, not __changing climate__ \n",
    "    *\t__food processing__, not __processing food__ or __processing of food__"
   ]
  },
  {
   "cell_type": "markdown",
   "id": "e4ce9b88",
   "metadata": {},
   "source": [
    "```{margin} __Examples of hyphenated terms:__\n",
    "* 1-aminocyclopropane-1-carboxylate deaminase\n",
    "* 3’ untranslated region\n",
    "* blood-brain barrier\n",
    "* public-private partnerships\n",
    "```\n",
    "*\tAvoid punctuation, including hyphens, if possible. Some exceptions include (but are not exclusively) taxonomic names, chemical compounds, scientific terms and accepted terms from other thesauri."
   ]
  },
  {
   "cell_type": "markdown",
   "id": "210898fc",
   "metadata": {},
   "source": [
    "*\tUse scientific terminology rather than lay/colloquial terminology. \n",
    "    *\t__neoplasms__, not cancer\n",
    "    *\t__renal calculi__, not kidney stones\n",
    "    *\t__tibia__, not shinbone\n",
    "\n",
    "```{bibliography} /book/references/references3.bib\n",
    ":filter: docname in docnames\n",
    "```\n",
    "\n",
    "## Creating hierarchy and relationships:\n",
    "*\tSupply at least one BT (preferably an existing NALT term) for each proposed term. The relationship between a proposed term and its BT should be generic (i.e., the BT is a class of concepts of which the proposed term is a member or is a part/whole relationship). If the proposed term is already in another thesaurus, use that hierarchy if the same or similar terms are already in NALT.\n",
    "    *\tproposed term __rosemary oil__ – BT __essential oils__ (or other appropriate NALT term)\n",
    "    *\tproposed term __brain-gut axis__ – BT __neurophysiology__ (or other appropriate NALT term)"
   ]
  },
  {
   "cell_type": "markdown",
   "id": "a38f30be",
   "metadata": {},
   "source": [
    "*\tProviding NTs and RTs is optional but these should be valid or proposed NALT terms. If the latter, submit the proposals concurrently and indicate this in the submission."
   ]
  },
  {
   "cell_type": "markdown",
   "id": "048a735e",
   "metadata": {},
   "source": [
    "*\tA term is assumed to include any of its common definitions. Indicate if certain definitions are to be excluded from the scope of the term or if an uncommon definition will be used. \n",
    "    *\t__mineralization__ (BT __chemical reactions__, breakdown of organic compounds to their inorganic (i.e., mineral) forms) versus __bone mineralization__ (BT __bone formation__)\n",
    "    *\t__phytotoxins__ (any toxins or poisons that are produced by a plant) versus __phytotoxicity__ (any substance that is toxic or poisonous to a plant). Some dictionaries and thesauri reverse the definitions or treat the two terms as synonyms of each other."
   ]
  },
  {
   "cell_type": "markdown",
   "id": "74bb1871",
   "metadata": {},
   "source": [
    "*\tIf the proposed term is the same or similar to a common word or name, add a qualifier to distinguish it from the common word. If uncertain, search the Internet for possible conflicts. \n",
    "    *\t__Alabama (Lepidoptera)__ versus the state of __Alabama__ \n",
    "    *\t__Alexa (Faboideae)__ versus the personal name “Alexa” or Amazon’s virtual assistant technology \n",
    "    *\t__Damascus (goat breed)__ versus the capital of __Syria__\n",
    "    *\t__does (females)__ versus third person present form of the verb “do”\n",
    "    *\t__spat (shellfish)__ versus past participle of the verb “spit”"
   ]
  },
  {
   "cell_type": "markdown",
   "id": "dd19526b",
   "metadata": {},
   "source": [
    "*\tIf a term has different meanings in different hierarchies, create separate terms with clarifying words, scope notes and/or definitions. \n",
    "    *\t__fuels__ (BT __energy resources__) versus __fuels (fire ecology)__ (BT __fire ecology__)\n",
    "    *\t__fertilization (soils)__ (preferred term __fertilizer application__) versus __fertilization (reproduction)__\n",
    "    *\t__ponding (natural)__ (BT __hydrology__) versus __ponding (water management)__ (BT __water management__)"
   ]
  },
  {
   "cell_type": "markdown",
   "id": "0e94d458",
   "metadata": {},
   "source": [
    "*\tIndicate the source of the term, definition, scope notes and/or hierarchy for follow-up. If possible, provide documentation (e.g., websites, governing authority) supporting the change. \n",
    "\n",
    "```{note}\n",
    "Requests will be reviewed by the indexing team for validity and necessity during the Golden Sets review. Priority will be given to terms related to agriculture and/or USDA topic areas. Generally, annotations using stop words, consisting of full sentences, or highlighting single words to represent phrases will not be added as preferred or entry-level terms. \n",
    "```"
   ]
  }
 ],
 "metadata": {
  "jupytext": {
   "text_representation": {
    "extension": ".md",
    "format_name": "myst",
    "format_version": 0.13,
    "jupytext_version": "1.11.5"
   }
  },
  "kernelspec": {
   "display_name": "Python 3",
   "language": "python",
   "name": "python3"
  },
  "source_map": [
   12,
   32,
   34,
   36,
   54,
   60,
   65,
   70,
   72,
   76,
   81,
   89,
   103,
   105,
   109,
   116,
   121
  ]
 },
 "nbformat": 4,
 "nbformat_minor": 5
}
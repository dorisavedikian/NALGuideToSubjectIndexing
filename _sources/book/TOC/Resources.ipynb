{
 "cells": [
  {
   "cell_type": "markdown",
   "id": "24c19485",
   "metadata": {},
   "source": [
    "# Resources\n",
    "* [AGRICOLA Guide to subject indexing, Technical Services Division. Hood, M. W., (1991).National Agricultural Library](https://drive.google.com/file/d/1P-6qPdme76bSz1FlqATmagMpUoSEc0vv/view?usp=share_link)"
   ]
  },
  {
   "cell_type": "markdown",
   "id": "52f13a51",
   "metadata": {},
   "source": [
    "* [Guide to indexing for AGRIS and CARIS. Bonnichon, M., (1994).]()"
   ]
  },
  {
   "cell_type": "markdown",
   "id": "ee4074d5",
   "metadata": {},
   "source": [
    "* [AGRICOLA Guide to Subject Indexing, 2nd draft, 2004 ](https://drive.google.com/file/d/1nMUq1DwP5lSdg-J6VR2IaJ3IcLEnd_Ip/view?usp=share_link)"
   ]
  },
  {
   "cell_type": "markdown",
   "id": "315370f2",
   "metadata": {},
   "source": [
    "* [AGRICOLA Guide to Subject Indexing, (revised 2010)](https://drive.google.com/file/d/1VcFCqQ3BMmNLPDzgTYbCI-Eki9CL--Vk/view?usp=share_link)"
   ]
  },
  {
   "cell_type": "markdown",
   "id": "97bfc7ac",
   "metadata": {},
   "source": [
    "* [Interim Policy: Decision table on problematic items found in indexing, July 2, 2014. Updated July 9, 2014. IIB, NAL.](https://drive.google.com/file/d/1NoWPZSkbXGzfhCmvPR5n5RnwqWhEhSB9/view?usp=share_link)"
   ]
  },
  {
   "cell_type": "markdown",
   "id": "eda296e7",
   "metadata": {},
   "source": [
    "* [IIB Manual: Change to Automatic Indexing (AI), September 2012 draft. NAL.](https://drive.google.com/file/d/19oAT-jZ6VPe946l27ZO85kLM4DMHmAzQ/view?usp=share_link)"
   ]
  },
  {
   "cell_type": "markdown",
   "id": "1c8eff0c",
   "metadata": {},
   "source": [
    "* [Indexing Guidelines for Automatic Indexing – DRAFT for leading discussion on Wednesday, May 4, 2011](https://drive.google.com/file/d/1Xl-ncNpbdBzu7QeyWElYyGydhKYE_Eul/view?usp=share_link)"
   ]
  },
  {
   "cell_type": "markdown",
   "id": "a2310ce2",
   "metadata": {},
   "source": [
    "* [Change to Automatic Indexing (AI): Subject Analysis Quality and Indexing Guidelines, (last update: Aug 30, 2012)](https://drive.google.com/file/d/1P4HHLY3MqG9KXPpSQ__-WtTiRu3Ic9A_/view?usp=share_link)"
   ]
  },
  {
   "cell_type": "markdown",
   "id": "4e78e24d",
   "metadata": {},
   "source": [
    "* [Medline Principles of Subject Indexing. May 9, 2014.](https://drive.google.com/file/d/1OK7lqsiRrZILmUgxul2auc1HOHgK1y_d/view?usp=share_link)"
   ]
  },
  {
   "cell_type": "markdown",
   "id": "2f7ac48c",
   "metadata": {},
   "source": [
    "* [Gibbs, J. Standards for Indexing, Summer & Fall 2015](https://drive.google.com/file/d/1w-Ia5UXM6r-sHBfga8yCeyU2TBo_cjEZ/view?usp=share_link)"
   ]
  },
  {
   "cell_type": "markdown",
   "id": "dd3e20ff",
   "metadata": {},
   "source": [
    "* [Bibliographic control and agriculture, Library Trends, University of Illinois, Thomas, S. E., 1990.](https://drive.google.com/file/d/1EIjo-H7apg-tSDNC7f2fyCChSfVFUyje/view?usp=share_link)"
   ]
  },
  {
   "cell_type": "markdown",
   "id": "be94904b",
   "metadata": {},
   "source": [
    "* Assessment of Food and Nutrition Related Descriptors in Agricultural and Biomedical Thesauri. {cite:p}`Bartol_09`"
   ]
  },
  {
   "cell_type": "markdown",
   "id": "e0fe91c8",
   "metadata": {},
   "source": [
    "* Indexing Practices at the National Agricultural Library, Cataloging & Classification Quarterly, {cite}`NALIndex`"
   ]
  },
  {
   "cell_type": "markdown",
   "id": "555506e8",
   "metadata": {},
   "source": [
    "* Semantic Indexing of Open Scientific Literature to Help Users Discover and Navigate through Publications Networks. {cite}`SemanticIndex`"
   ]
  },
  {
   "cell_type": "markdown",
   "id": "97b895dc",
   "metadata": {},
   "source": [
    "* Automated Subject Indexing: An Overview, Cataloging & Classification Quarterly, {cite}`AutoIndex`"
   ]
  },
  {
   "cell_type": "markdown",
   "id": "20eb2ec6",
   "metadata": {},
   "source": [
    "* The concept of ‘aboutness’ in subject indexing, {cite}`Hutchins1997`"
   ]
  },
  {
   "cell_type": "markdown",
   "id": "c5ed912a",
   "metadata": {},
   "source": [
    "* Review of International Food Classification and Description, Journal of Food Composition and Analysis, {cite}`IRELAND `"
   ]
  },
  {
   "cell_type": "markdown",
   "id": "cc7daeb7",
   "metadata": {},
   "source": [
    "* Computer-assisted indexing training and electronic text conversion at NAL.{cite}`1997:irving`"
   ]
  },
  {
   "cell_type": "markdown",
   "id": "4fbef213",
   "metadata": {},
   "source": [
    "* A Practical Comparison Between Thesaurus and Ontology Techniques As a Basis for Search Improvement, Journal of Agricultural & Food Information, {cite}`ontology:06`"
   ]
  },
  {
   "cell_type": "markdown",
   "id": "9c9d88b1",
   "metadata": {},
   "source": [
    "* Semantic Indexing of Open Scientific Literature to Help Users Discover and Navigate through Publications Networks. Biodiversity Information Science and Standards {cite}`semantic:22`"
   ]
  },
  {
   "cell_type": "markdown",
   "id": "4f015bf9",
   "metadata": {},
   "source": [
    "* Consistency and Accuracy of the Medical Subject Headings Thesaurus for Electronic Indexing and Retrieval of Chronobiologic References,{cite}`chrono:07`"
   ]
  },
  {
   "cell_type": "markdown",
   "id": "b32b370c",
   "metadata": {},
   "source": [
    "* A Comparison of Selected Bibliographic Database Search Retrieval for Agricultural Information. Issues in Science and Technology Librarianship, {cite}`kelly:19`"
   ]
  },
  {
   "cell_type": "markdown",
   "id": "e878dbf6",
   "metadata": {},
   "source": [
    "* Building the AgNIC Resource Database Using Semi-Automatic Indexing of Material, Journal of Agricultural & Food Information, {cite}`taylor:14`"
   ]
  },
  {
   "cell_type": "markdown",
   "id": "4efc7a91",
   "metadata": {},
   "source": [
    "* Information Retrieval in Food Science Research: A Bibliographic Database Analysis. Journal of Food Science, {cite}`Urhan2018InformationRI`"
   ]
  },
  {
   "cell_type": "markdown",
   "id": "81321194",
   "metadata": {},
   "source": [
    "* Information Retrieval in Food Science Research II: Accounting for Relevance When Evaluating Database Performance. Journal of Food Science, {cite}`urhan2`"
   ]
  },
  {
   "cell_type": "markdown",
   "id": "efe2de18",
   "metadata": {},
   "source": [
    "* A Random Walk on an Ontology: Using Thesaurus Structure for Automatic Subject Indexing. {cite}`willis:13`"
   ]
  },
  {
   "cell_type": "markdown",
   "id": "ba1775e9",
   "metadata": {},
   "source": [
    "* Criteria for Indexes Working Group [ANSI/NISO Z39.4-2021](https://groups.niso.org/higherlogic/ws/public/download/25816/ANSI_NISO_Z39.94-2021_Criteria_for_Indexes.pdf)"
   ]
  },
  {
   "cell_type": "markdown",
   "id": "96714b3d",
   "metadata": {},
   "source": [
    "* National Library of Medicine, MEDLINE [Indexing Online Training Course, April 15, 2015.](https://www.nlm.nih.gov/bsd/indexing/training/USE_010.html)"
   ]
  },
  {
   "cell_type": "markdown",
   "id": "22b06525",
   "metadata": {},
   "source": [
    "* Basics of Subject Indexing, [Unit-9](http://egyankosh.ac.in/handle/123456789/35769), Sarkhel, J. (2017)."
   ]
  },
  {
   "cell_type": "markdown",
   "id": "648895da",
   "metadata": {},
   "source": [
    "* Language Is The Next Great Frontier In AI, [Forbes, February/March 2022.](https://www.forbes.com/sites/robtoews/2022/02/13/language-is-the-next-great-frontier-in-ai/?sh=713f820a5c50)\n",
    "\n",
    "## References \n",
    "```{bibliography} /book/references/references2.bib\n",
    ":filter: docname in docnames\n",
    "```"
   ]
  }
 ],
 "metadata": {
  "jupytext": {
   "text_representation": {
    "extension": ".md",
    "format_name": "myst",
    "format_version": 0.13,
    "jupytext_version": "1.11.5"
   }
  },
  "kernelspec": {
   "display_name": "Python 3",
   "language": "python",
   "name": "python3"
  },
  "source_map": [
   12,
   16,
   18,
   20,
   22,
   24,
   26,
   28,
   30,
   32,
   34,
   36,
   38,
   40,
   42,
   44,
   46,
   48,
   50,
   52,
   54,
   56,
   58,
   60,
   62,
   64,
   66,
   68,
   70,
   72
  ]
 },
 "nbformat": 4,
 "nbformat_minor": 5
}
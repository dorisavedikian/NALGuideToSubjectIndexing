{
 "cells": [
  {
   "cell_type": "markdown",
   "id": "2d4cb456",
   "metadata": {},
   "source": [
    "# Resources\n",
    "\n",
    "## Indexing Guidelines - Resource links in Teams\n",
    "* [2004 Agricola Guide to Subject Indexing 2nd draft](https://usdagcc.sharepoint.com/:w:/s/ars-nal-dpd-DPD-IIB-GuidelinesandReferences/EXWCqj1BuR5MhiRUVoeJ3hgBc6s1ebL4VZ9_y861v9vrfg?e=ykoXlr)"
   ]
  },
  {
   "cell_type": "markdown",
   "id": "f2241b10",
   "metadata": {},
   "source": [
    "* [Change to Automatic Indexing_Subject Analysis Quality & Development of Draft Guidelines](https://usdagcc.sharepoint.com/:w:/s/ars-nal-dpd-DPD-IIB-GuidelinesandReferences/EW0Iu6pGz-xJkEVhjvrv2d0BTMnwSn3owkH7NRNgMgqSmQ?e=TETtrr)"
   ]
  },
  {
   "cell_type": "markdown",
   "id": "9230ff05",
   "metadata": {},
   "source": [
    "* [Gibbs Standards for Indexing](https://usdagcc.sharepoint.com/:b:/s/ars-nal-dpd-DPD-IIB-GuidelinesandReferences/ETUYtRT1TdRErhNSskHZtZQBsdoN6SsRJSnZ9kpc_meYeQ?e=0aCw1K)"
   ]
  },
  {
   "cell_type": "markdown",
   "id": "0c1a4607",
   "metadata": {},
   "source": [
    "* [Hood Agricola Guide to Subject Indexing 1991](https://usdagcc.sharepoint.com/:b:/s/ars-nal-dpd-DPD-IIB-GuidelinesandReferences/EVdksT3qm2RGlhm_OBqz6T0BgvoUKM7KdgcCLXmaOZnEdg?e=eSAjvu)"
   ]
  },
  {
   "cell_type": "markdown",
   "id": "db8874c9",
   "metadata": {},
   "source": [
    "* [Interim Policy on problem articles encountered in indexing](https://usdagcc.sharepoint.com/:w:/s/ars-nal-dpd-DPD-IIB-GuidelinesandReferences/ETKI7olZMtRLrosAWqNmNbYBqxjMd6EGC-ESzIFS2toTpA?e=IHVTG6)"
   ]
  },
  {
   "cell_type": "markdown",
   "id": "09aaea17",
   "metadata": {},
   "source": [
    "* [Indexing Guidelines for Automatic Indexing BASICS 2011](https://usdagcc.sharepoint.com/:w:/s/ars-nal-dpd-DPD-IIB-GuidelinesandReferences/EXCoj6C3gXFOsxk_NE6IM5gB1EopxE8TyA2N3pkz8FTZXw?e=wQxOyD)"
   ]
  },
  {
   "cell_type": "markdown",
   "id": "88c081fc",
   "metadata": {},
   "source": [
    "* [Medline Principles of Subject Indexing](https://usdagcc.sharepoint.com/:w:/s/ars-nal-dpd-DPD-IIB-GuidelinesandReferences/EUVyuQGIi7dOstFblsW2ot4BIcEhyfU1192Sl28IAaZebg?e=zMFfIr)"
   ]
  },
  {
   "cell_type": "markdown",
   "id": "e9bbae08",
   "metadata": {},
   "source": [
    "* [IIB Manual 2012_Change to Automatic Indexing](https://usdagcc.sharepoint.com/:w:/s/ars-nal-dpd-DPD-IIB-GuidelinesandReferences/ET952RQhflBLhjF1x7SzmDkBoyCQYibHY53n_-E5cZeIWg?e=WordXp)"
   ]
  },
  {
   "cell_type": "markdown",
   "id": "905a34a2",
   "metadata": {},
   "source": [
    "* [Thomas_Bibliographic control and agriculture](https://usdagcc.sharepoint.com/:b:/s/ars-nal-dpd-DPD-IIB-GuidelinesandReferences/EVFo0hBlenpGq6mQYmbmy_wBkQKdeKy1JGjIJ4Gr9-1CTA?e=Aigsq2)"
   ]
  },
  {
   "cell_type": "markdown",
   "id": "cb305cc0",
   "metadata": {},
   "source": [
    "* [Criteria for Indexes Working Group](https://groups.niso.org/higherlogic/ws/public/download/25816/ANSI_NISO_Z39.94-2021_Criteria_for_Indexes.pdf)"
   ]
  },
  {
   "cell_type": "markdown",
   "id": "8e1c2c63",
   "metadata": {},
   "source": [
    "* [National Library of Medicine, MEDLINE Indexing Online Training Course, April 15, 2015.](https://www.nlm.nih.gov/bsd/indexing/training/USE_010.html)"
   ]
  },
  {
   "cell_type": "markdown",
   "id": "9c14dd0c",
   "metadata": {},
   "source": [
    "* [Basics of Subject Indexing, Sarkhel, J. (2017), Unit-9](http://egyankosh.ac.in/handle/123456789/35769),"
   ]
  },
  {
   "cell_type": "markdown",
   "id": "996eadf9",
   "metadata": {},
   "source": [
    "* [Language Is The Next Great Frontier In AI, Forbes, February/March 2022.](https://www.forbes.com/sites/robtoews/2022/02/13/language-is-the-next-great-frontier-in-ai/?sh=713f820a5c50)\n",
    "\n",
    "## Articles \n",
    "* Assessment of Food and Nutrition Related Descriptors in Agricultural and Biomedical Thesauri. {cite:p}`Bartol_09`"
   ]
  },
  {
   "cell_type": "markdown",
   "id": "f6362884",
   "metadata": {},
   "source": [
    "* Indexing Practices at the National Agricultural Library, Cataloging & Classification Quarterly, {cite}`NALIndex`"
   ]
  },
  {
   "cell_type": "markdown",
   "id": "05f315d3",
   "metadata": {},
   "source": [
    "* Semantic Indexing of Open Scientific Literature to Help Users Discover and Navigate through Publications Networks. {cite}`SemanticIndex`"
   ]
  },
  {
   "cell_type": "markdown",
   "id": "8353c528",
   "metadata": {},
   "source": [
    "* Automated Subject Indexing: An Overview, Cataloging & Classification Quarterly, {cite}`AutoIndex`"
   ]
  },
  {
   "cell_type": "markdown",
   "id": "1d3b4007",
   "metadata": {},
   "source": [
    "* The concept of ‘aboutness’ in subject indexing, {cite}`Hutchins1997`"
   ]
  },
  {
   "cell_type": "markdown",
   "id": "dc8b06ee",
   "metadata": {},
   "source": [
    "* Review of International Food Classification and Description, Journal of Food Composition and Analysis, {cite}`IRELAND `"
   ]
  },
  {
   "cell_type": "markdown",
   "id": "45992869",
   "metadata": {},
   "source": [
    "* Computer-assisted indexing training and electronic text conversion at NAL.{cite}`1997:irving`"
   ]
  },
  {
   "cell_type": "markdown",
   "id": "3d459a3b",
   "metadata": {},
   "source": [
    "* A Practical Comparison Between Thesaurus and Ontology Techniques As a Basis for Search Improvement, Journal of Agricultural & Food Information, {cite}`ontology:06`"
   ]
  },
  {
   "cell_type": "markdown",
   "id": "511a79b4",
   "metadata": {},
   "source": [
    "* Semantic Indexing of Open Scientific Literature to Help Users Discover and Navigate through Publications Networks. Biodiversity Information Science and Standards {cite}`semantic:22`"
   ]
  },
  {
   "cell_type": "markdown",
   "id": "4b2b67a2",
   "metadata": {},
   "source": [
    "* Consistency and Accuracy of the Medical Subject Headings Thesaurus for Electronic Indexing and Retrieval of Chronobiologic References,{cite}`chrono:07`"
   ]
  },
  {
   "cell_type": "markdown",
   "id": "dfa32808",
   "metadata": {},
   "source": [
    "* A Comparison of Selected Bibliographic Database Search Retrieval for Agricultural Information. Issues in Science and Technology Librarianship, {cite}`kelly:19`"
   ]
  },
  {
   "cell_type": "markdown",
   "id": "18a85748",
   "metadata": {},
   "source": [
    "* Building the AgNIC Resource Database Using Semi-Automatic Indexing of Material, Journal of Agricultural & Food Information, {cite}`taylor:14`"
   ]
  },
  {
   "cell_type": "markdown",
   "id": "f5c9cbb2",
   "metadata": {},
   "source": [
    "* Information Retrieval in Food Science Research: A Bibliographic Database Analysis. Journal of Food Science, {cite}`Urhan2018InformationRI`"
   ]
  },
  {
   "cell_type": "markdown",
   "id": "c461342c",
   "metadata": {},
   "source": [
    "* Information Retrieval in Food Science Research II: Accounting for Relevance When Evaluating Database Performance. Journal of Food Science, {cite}`urhan2`"
   ]
  },
  {
   "cell_type": "markdown",
   "id": "b890da12",
   "metadata": {},
   "source": [
    "* A Random Walk on an Ontology: Using Thesaurus Structure for Automatic Subject Indexing. {cite}`willis:13`"
   ]
  },
  {
   "cell_type": "markdown",
   "id": "bfaedcd1",
   "metadata": {},
   "source": [
    "* Bonnichon, M. (1994). Guide to indexing for AGRIS and CARIS. Rome: FAO.{cite}`Bonni` See also, [this website related to the guide](https://www.fao.org/3/u1808e/U1808E00.htm#TopOfPage)\n",
    "\n",
    "## References \n",
    "```{bibliography} /book/references/references2.bib\n",
    ":filter: docname in docnames\n",
    "```"
   ]
  }
 ],
 "metadata": {
  "jupytext": {
   "text_representation": {
    "extension": ".md",
    "format_name": "myst",
    "format_version": 0.13,
    "jupytext_version": "1.11.5"
   }
  },
  "kernelspec": {
   "display_name": "Python 3",
   "language": "python",
   "name": "python3"
  },
  "source_map": [
   12,
   18,
   20,
   22,
   24,
   26,
   28,
   30,
   32,
   34,
   36,
   38,
   40,
   45,
   47,
   49,
   51,
   53,
   55,
   57,
   59,
   61,
   63,
   65,
   67,
   69,
   71,
   73
  ]
 },
 "nbformat": 4,
 "nbformat_minor": 5
}
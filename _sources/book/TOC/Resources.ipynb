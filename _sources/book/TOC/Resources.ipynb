{
 "cells": [
  {
   "cell_type": "markdown",
   "id": "3ac18b33",
   "metadata": {},
   "source": [
    "# Resources\n",
    "\n",
    "## Links to internal and external resources\n",
    "* [AGRICOLA Guide to subject indexing, Technical Services Division. Hood, M. W., (1991).National Agricultural Library](https://drive.google.com/file/d/1P-6qPdme76bSz1FlqATmagMpUoSEc0vv/view?usp=share_link)"
   ]
  },
  {
   "cell_type": "markdown",
   "id": "718ca0b9",
   "metadata": {},
   "source": [
    "* [Guide to indexing for AGRIS and CARIS. Bonnichon, M., (1994).]()"
   ]
  },
  {
   "cell_type": "markdown",
   "id": "b2945fe0",
   "metadata": {},
   "source": [
    "* [AGRICOLA Guide to Subject Indexing, 2nd draft, 2004 ](https://drive.google.com/file/d/1nMUq1DwP5lSdg-J6VR2IaJ3IcLEnd_Ip/view?usp=share_link)"
   ]
  },
  {
   "cell_type": "markdown",
   "id": "6829a7ac",
   "metadata": {},
   "source": [
    "* [AGRICOLA Guide to Subject Indexing, (revised 2010)](https://drive.google.com/file/d/1VcFCqQ3BMmNLPDzgTYbCI-Eki9CL--Vk/view?usp=share_link)"
   ]
  },
  {
   "cell_type": "markdown",
   "id": "b01c84e0",
   "metadata": {},
   "source": [
    "* [Interim Policy: Decision table on problematic items found in indexing, July 2, 2014. Updated July 9, 2014. IIB, NAL.](https://drive.google.com/file/d/1NoWPZSkbXGzfhCmvPR5n5RnwqWhEhSB9/view?usp=share_link)"
   ]
  },
  {
   "cell_type": "markdown",
   "id": "708d7962",
   "metadata": {},
   "source": [
    "* [IIB Manual: Change to Automatic Indexing (AI), September 2012 draft. NAL.](https://drive.google.com/file/d/19oAT-jZ6VPe946l27ZO85kLM4DMHmAzQ/view?usp=share_link)"
   ]
  },
  {
   "cell_type": "markdown",
   "id": "e73f0477",
   "metadata": {},
   "source": [
    "* [Indexing Guidelines for Automatic Indexing – DRAFT for leading discussion on Wednesday, May 4, 2011](https://drive.google.com/file/d/1Xl-ncNpbdBzu7QeyWElYyGydhKYE_Eul/view?usp=share_link)"
   ]
  },
  {
   "cell_type": "markdown",
   "id": "cf3cabf1",
   "metadata": {},
   "source": [
    "* [Change to Automatic Indexing (AI): Subject Analysis Quality and Indexing Guidelines, (last update: Aug 30, 2012)](https://drive.google.com/file/d/1P4HHLY3MqG9KXPpSQ__-WtTiRu3Ic9A_/view?usp=share_link)"
   ]
  },
  {
   "cell_type": "markdown",
   "id": "1adeefc2",
   "metadata": {},
   "source": [
    "* [Medline Principles of Subject Indexing. May 9, 2014.](https://drive.google.com/file/d/1OK7lqsiRrZILmUgxul2auc1HOHgK1y_d/view?usp=share_link)"
   ]
  },
  {
   "cell_type": "markdown",
   "id": "295dacf1",
   "metadata": {},
   "source": [
    "* [Gibbs, J. Standards for Indexing, Summer & Fall 2015](https://drive.google.com/file/d/1w-Ia5UXM6r-sHBfga8yCeyU2TBo_cjEZ/view?usp=share_link)"
   ]
  },
  {
   "cell_type": "markdown",
   "id": "33d1df55",
   "metadata": {},
   "source": [
    "* [Bibliographic control and agriculture, Library Trends, University of Illinois, Thomas, S. E., 1990.](https://drive.google.com/file/d/1EIjo-H7apg-tSDNC7f2fyCChSfVFUyje/view?usp=share_link)"
   ]
  },
  {
   "cell_type": "markdown",
   "id": "33f4bf25",
   "metadata": {},
   "source": [
    "* Criteria for Indexes Working Group [ANSI/NISO Z39.4-2021](https://groups.niso.org/higherlogic/ws/public/download/25816/ANSI_NISO_Z39.94-2021_Criteria_for_Indexes.pdf)"
   ]
  },
  {
   "cell_type": "markdown",
   "id": "9a1dacfa",
   "metadata": {},
   "source": [
    "* National Library of Medicine, MEDLINE [Indexing Online Training Course, April 15, 2015.](https://www.nlm.nih.gov/bsd/indexing/training/USE_010.html)"
   ]
  },
  {
   "cell_type": "markdown",
   "id": "238a6642",
   "metadata": {},
   "source": [
    "* Basics of Subject Indexing, [Unit-9](http://egyankosh.ac.in/handle/123456789/35769), Sarkhel, J. (2017)."
   ]
  },
  {
   "cell_type": "markdown",
   "id": "4c68bed6",
   "metadata": {},
   "source": [
    "* Language Is The Next Great Frontier In AI, [Forbes, February/March 2022.](https://www.forbes.com/sites/robtoews/2022/02/13/language-is-the-next-great-frontier-in-ai/?sh=713f820a5c50)\n",
    "\n",
    "## Articles \n",
    "* Assessment of Food and Nutrition Related Descriptors in Agricultural and Biomedical Thesauri. {cite:p}`Bartol_09`"
   ]
  },
  {
   "cell_type": "markdown",
   "id": "ccf8cfb1",
   "metadata": {},
   "source": [
    "* Indexing Practices at the National Agricultural Library, Cataloging & Classification Quarterly, {cite}`NALIndex`"
   ]
  },
  {
   "cell_type": "markdown",
   "id": "2358492c",
   "metadata": {},
   "source": [
    "* Semantic Indexing of Open Scientific Literature to Help Users Discover and Navigate through Publications Networks. {cite}`SemanticIndex`"
   ]
  },
  {
   "cell_type": "markdown",
   "id": "bff4cdf0",
   "metadata": {},
   "source": [
    "* Automated Subject Indexing: An Overview, Cataloging & Classification Quarterly, {cite}`AutoIndex`"
   ]
  },
  {
   "cell_type": "markdown",
   "id": "2cd95cc0",
   "metadata": {},
   "source": [
    "* The concept of ‘aboutness’ in subject indexing, {cite}`Hutchins1997`"
   ]
  },
  {
   "cell_type": "markdown",
   "id": "b91caed2",
   "metadata": {},
   "source": [
    "* Review of International Food Classification and Description, Journal of Food Composition and Analysis, {cite}`IRELAND `"
   ]
  },
  {
   "cell_type": "markdown",
   "id": "b52b7fe3",
   "metadata": {},
   "source": [
    "* Computer-assisted indexing training and electronic text conversion at NAL.{cite}`1997:irving`"
   ]
  },
  {
   "cell_type": "markdown",
   "id": "4c4eb059",
   "metadata": {},
   "source": [
    "* A Practical Comparison Between Thesaurus and Ontology Techniques As a Basis for Search Improvement, Journal of Agricultural & Food Information, {cite}`ontology:06`"
   ]
  },
  {
   "cell_type": "markdown",
   "id": "2d4b6163",
   "metadata": {},
   "source": [
    "* Semantic Indexing of Open Scientific Literature to Help Users Discover and Navigate through Publications Networks. Biodiversity Information Science and Standards {cite}`semantic:22`"
   ]
  },
  {
   "cell_type": "markdown",
   "id": "7a879bf6",
   "metadata": {},
   "source": [
    "* Consistency and Accuracy of the Medical Subject Headings Thesaurus for Electronic Indexing and Retrieval of Chronobiologic References,{cite}`chrono:07`"
   ]
  },
  {
   "cell_type": "markdown",
   "id": "8ca252fe",
   "metadata": {},
   "source": [
    "* A Comparison of Selected Bibliographic Database Search Retrieval for Agricultural Information. Issues in Science and Technology Librarianship, {cite}`kelly:19`"
   ]
  },
  {
   "cell_type": "markdown",
   "id": "bafad2d3",
   "metadata": {},
   "source": [
    "* Building the AgNIC Resource Database Using Semi-Automatic Indexing of Material, Journal of Agricultural & Food Information, {cite}`taylor:14`"
   ]
  },
  {
   "cell_type": "markdown",
   "id": "ff674f49",
   "metadata": {},
   "source": [
    "* Information Retrieval in Food Science Research: A Bibliographic Database Analysis. Journal of Food Science, {cite}`Urhan2018InformationRI`"
   ]
  },
  {
   "cell_type": "markdown",
   "id": "c23c802f",
   "metadata": {},
   "source": [
    "* Information Retrieval in Food Science Research II: Accounting for Relevance When Evaluating Database Performance. Journal of Food Science, {cite}`urhan2`"
   ]
  },
  {
   "cell_type": "markdown",
   "id": "ac0a30c9",
   "metadata": {},
   "source": [
    "* A Random Walk on an Ontology: Using Thesaurus Structure for Automatic Subject Indexing. {cite}`willis:13`\n",
    "\n",
    "## References \n",
    "```{bibliography} /book/references/references2.bib\n",
    ":filter: docname in docnames\n",
    "```"
   ]
  }
 ],
 "metadata": {
  "jupytext": {
   "text_representation": {
    "extension": ".md",
    "format_name": "myst",
    "format_version": 0.13,
    "jupytext_version": "1.11.5"
   }
  },
  "kernelspec": {
   "display_name": "Python 3",
   "language": "python",
   "name": "python3"
  },
  "source_map": [
   12,
   18,
   20,
   22,
   24,
   26,
   28,
   30,
   32,
   34,
   36,
   38,
   40,
   42,
   44,
   49,
   51,
   53,
   55,
   57,
   59,
   61,
   63,
   65,
   67,
   69,
   71,
   73,
   75
  ]
 },
 "nbformat": 4,
 "nbformat_minor": 5
}
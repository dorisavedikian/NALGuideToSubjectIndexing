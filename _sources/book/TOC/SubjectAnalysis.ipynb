{
 "cells": [
  {
   "cell_type": "markdown",
   "id": "452951d2",
   "metadata": {},
   "source": [
    "(SA)=\n",
    "# Subject Analysis\n",
    "## Methodology and Techniques\n",
    "## Basics for Using Taxonomic Names\n",
    "## Geographic Descriptors"
   ]
  }
 ],
 "metadata": {
  "jupytext": {
   "text_representation": {
    "extension": ".md",
    "format_name": "myst",
    "format_version": 0.13,
    "jupytext_version": "1.11.5"
   }
  },
  "kernelspec": {
   "display_name": "Python 3",
   "language": "python",
   "name": "python3"
  },
  "source_map": [
   12
  ]
 },
 "nbformat": 4,
 "nbformat_minor": 5
}
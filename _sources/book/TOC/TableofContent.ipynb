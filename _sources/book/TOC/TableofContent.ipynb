{
 "cells": [
  {
   "cell_type": "markdown",
   "id": "968bc1cf",
   "metadata": {},
   "source": [
    "# Table of Contents\n",
    "\n",
    "```{contents}\n",
    ":local:\n",
    "```\n",
    "\n",
    "## Basic Guidelines\n",
    "\n",
    "## The Agricola Database\n",
    "\n",
    "## MARC Format\n",
    "\n",
    "## The NAL Thesaurus (NALT)\n",
    "\n",
    "## Workflow\n",
    "\n",
    "## Subject Analysis\n",
    "\n",
    "## Other\n",
    "\n",
    "```{note}\n",
    "This is a note!\n",
    "```\n",
    "\n",
    "```{warning} This is an example\n",
    "of a warning directive.\n",
    "```\n",
    "\n",
    "```{tip} This is an example\n",
    "of a tip directive.\n",
    "```\n",
    "\n",
    "```{caution} This is an example\n",
    "of a caution directive.\n",
    "```\n",
    "\n",
    "```{attention} This is an example\n",
    "of an attention directive.\n",
    "```\n",
    "\n",
    "```{danger} This is an example\n",
    "of a danger directive.\n",
    "```\n",
    "\n",
    "```{error} This is an example\n",
    "of an error directive.\n",
    "```\n",
    "\n",
    "```{hint} This is an example\n",
    "of a hint directive.\n",
    "```\n",
    "\n",
    "```{important} This is an example\n",
    "of an important directive.\n",
    "```"
   ]
  }
 ],
 "metadata": {
  "jupytext": {
   "text_representation": {
    "extension": ".md",
    "format_name": "myst",
    "format_version": 0.13,
    "jupytext_version": "1.11.5"
   }
  },
  "kernelspec": {
   "display_name": "Python 3",
   "language": "python",
   "name": "python3"
  },
  "source_map": [
   12
  ]
 },
 "nbformat": 4,
 "nbformat_minor": 5
}
{
 "cells": [
  {
   "cell_type": "markdown",
   "id": "59cd2539",
   "metadata": {},
   "source": [
    "# Table of Contents\n",
    "\n",
    "## Basic Guidelines\n",
    "\n",
    "## The Agricola Database\n",
    "\n",
    "## MARC Format\n",
    "\n",
    "## The NAL Thesaurus (NALT)\n",
    "\n",
    "## Workflow\n",
    "\n",
    "## Subject Analysis"
   ]
  }
 ],
 "metadata": {
  "jupytext": {
   "text_representation": {
    "extension": ".md",
    "format_name": "myst",
    "format_version": 0.13,
    "jupytext_version": "1.11.5"
   }
  },
  "kernelspec": {
   "display_name": "Python 3",
   "language": "python",
   "name": "python3"
  },
  "source_map": [
   12
  ]
 },
 "nbformat": 4,
 "nbformat_minor": 5
}